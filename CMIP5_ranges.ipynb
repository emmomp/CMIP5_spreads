{
 "cells": [
  {
   "cell_type": "markdown",
   "metadata": {},
   "source": [
    "# Calculating inter-model spreads in CMIP5 variables\n",
    "E Boland 2021 - contact emmomp@bas.ac.uk for any issues\n",
    "\n",
    "This notebook is designed to access the JASMIN CMIP5 holdings and calculate inter-model spreads and standard deviations in a given 2D variable. \n",
    "\n",
    "Requires baspy to access the CMIP5 holdings, accessible here: https://github.com/scotthosking/baspy\n",
    "\n",
    "Options: \n",
    "- to include all runs, or only one per model, or one per modelling centre. \n",
    "- choose experiment\n",
    "- choose time span\n",
    "\n",
    "### Setting up "
   ]
  },
  {
   "cell_type": "code",
   "execution_count": 81,
   "metadata": {},
   "outputs": [],
   "source": [
    "import sys\n",
    "sys.path.insert(0,'/home/users/eboland/python')\n",
    "import baspy as bp\n",
    "import xarray as xr\n",
    "import pyresample\n",
    "import numpy as np\n",
    "import matplotlib.pyplot as plt\n",
    "\n",
    "save_dir='../data_out' #edit this to where you want result files saved\n",
    "plots_dir='../plots'"
   ]
  },
  {
   "cell_type": "markdown",
   "metadata": {
    "tags": []
   },
   "source": [
    "### Defining functions to re-grid the model data\n",
    "\n",
    "Note that these default to re-gridding everything to a 1 degree x 1 degree grid, but also take new_lat and new_lon as arguments if you want a different (regular) grid"
   ]
  },
  {
   "cell_type": "code",
   "execution_count": 82,
   "metadata": {
    "tags": []
   },
   "outputs": [],
   "source": [
    "#Function to get re-gridding kernel for applying at each timestep\n",
    "def setup_regrid(old_lat,old_lon,new_lat=np.linspace(-89.5,89.5,180),new_lon=np.linspace(-179,180,360)):\n",
    "    orig_grid = pyresample.geometry.SwathDefinition(lons=old_lon.ravel(), lats=old_lat.ravel())\n",
    "    yi,xi=np.meshgrid(new_lat,new_lon)\n",
    "    new_grid  = pyresample.geometry.GridDefinition(lons=xi,lats=yi)\n",
    "    resample_data = pyresample.kd_tree.get_neighbour_info(orig_grid, new_grid, 200000, neighbours=1)\n",
    "    return resample_data   \n",
    "#Function to apply re-gridding kernel for given timestep, return as xarray dataarray\n",
    "def repeat_regrid(ds,resample_data,timestep, new_lat=np.linspace(-89.5,89.5,180),new_lon=np.linspace(-179,180,360)):    \n",
    "    grid_shape=[new_lon.size,new_lat.size]\n",
    "    foo = pyresample.kd_tree.get_sample_from_neighbour_info('nn', grid_shape, ds.ravel(),\n",
    "                                              resample_data[0], resample_data[1],resample_data[2])    \n",
    "    ds2=xr.DataArray(foo.T[:,:,None],dims=['lat','lon','time'],coords={'lon':(('lon'),new_lon),'lat':(('lat'),new_lat),'time':(('time'),[timestep])})\n",
    "    return ds2"
   ]
  },
  {
   "cell_type": "markdown",
   "metadata": {},
   "source": [
    "### 1. Choose the variable, experiment, and time span you want"
   ]
  },
  {
   "cell_type": "code",
   "execution_count": 94,
   "metadata": {},
   "outputs": [],
   "source": [
    "#vars=['tos','sos','hfds','tauuo','tauvo']\n",
    "var='sos'\n",
    "experiment='historical' #or rcp45 etc\n",
    "time_start='1992-01-01' # In format 'YYYY-MM-DD' or None for the start/end\n",
    "time_end='2005-01-01'"
   ]
  },
  {
   "cell_type": "markdown",
   "metadata": {},
   "source": [
    "### 2. Load all ensemble members, or only first"
   ]
  },
  {
   "cell_type": "code",
   "execution_count": 95,
   "metadata": {},
   "outputs": [
    {
     "name": "stdout",
     "output_type": "stream",
     "text": [
      "Finding run r1i1p1 for sos in historical experiment\n",
      "Found 41 sets of data from 41 models from 17 centres\n"
     ]
    }
   ],
   "source": [
    "#runs='all' # all runs available\n",
    "runs='one' # loads only run r1i1p1 \n",
    "\n",
    "if runs == 'all':\n",
    "    print('Finding all runs for {} in {} experiment'.format(var,experiment))\n",
    "    df = bp.catalogue(dataset='cmip5',Experiment=experiment,Var=var) #All models, all centres, all ensemble members:\n",
    "    dim_id='model_run' #New dimension model_run will be created to calculate spreads/std devs\n",
    "elif runs=='one' :\n",
    "    print('Finding run r1i1p1 for {} in {} experiment'.format(var,experiment))\n",
    "    df = bp.catalogue(dataset='cmip5',Experiment=experiment,Var=var,RunID='r1i1p1') # Only one ensemble per model\n",
    "    dim_id = 'model'\n",
    "else:\n",
    "    print('Please set runs to \"all\" or \"one\"') \n",
    "models=set(df.Model)\n",
    "centres=set(df.Centre)\n",
    "print('Found {} sets of data from {} models from {} centres'.format(len(df),len(models),len(centres)))"
   ]
  },
  {
   "cell_type": "markdown",
   "metadata": {},
   "source": [
    "### 2.a. (optional) Subset models further\n",
    "Choose only one model per centre, comment out this cell to keep all models"
   ]
  },
  {
   "cell_type": "code",
   "execution_count": 4,
   "metadata": {},
   "outputs": [
    {
     "name": "stdout",
     "output_type": "stream",
     "text": [
      "Found 20 sets of data from 20 models from 20 centres\n"
     ]
    }
   ],
   "source": [
    "#model_list=[]\n",
    "#for centre in centres:\n",
    "#    df_subset=df.loc[df['Centre']==centre]\n",
    "#    model_subset=set(df_subset.Model)\n",
    "#    #choose one\n",
    "#    foo=model_subset.pop()\n",
    "#    model_list.append(foo)\n",
    "#df=df.loc[df['Model'].isin(model_list)]\n",
    "#models=set(df.Model)\n",
    "#centres=set(df.Centre)\n",
    "#print('Found {} sets of data from {} models from {} centres'.format(len(df),len(models),len(centres)))"
   ]
  },
  {
   "cell_type": "markdown",
   "metadata": {},
   "source": [
    "### 3. Get data from each model, regridding as you go"
   ]
  },
  {
   "cell_type": "code",
   "execution_count": 104,
   "metadata": {},
   "outputs": [
    {
     "name": "stdout",
     "output_type": "stream",
     "text": [
      "CCCma CanCM4 r1i1p1 Found 1 files\n"
     ]
    },
    {
     "name": "stderr",
     "output_type": "stream",
     "text": [
      "<ipython-input-104-04d5cd25cee7>:42: RuntimeWarning: Converting a CFTimeIndex with dates from a non-standard calendar, 'noleap', to a pandas.DatetimeIndex, which uses dates from the standard calendar.  This may lead to subtle errors in operations that depend on the length of time between dates.\n",
      "  time_index=data.indexes['time'].to_datetimeindex()\n"
     ]
    },
    {
     "name": "stdout",
     "output_type": "stream",
     "text": [
      "Found data, proceeding to re-grid to 1 deg by 1 deg\n",
      "Step 0 of 156\n",
      "Step 50 of 156\n",
      "Step 100 of 156\n",
      "Step 150 of 156\n",
      "Regridding complete\n",
      "CCCma CanESM2 r1i1p1 Found 1 files\n"
     ]
    },
    {
     "name": "stderr",
     "output_type": "stream",
     "text": [
      "<ipython-input-104-04d5cd25cee7>:42: RuntimeWarning: Converting a CFTimeIndex with dates from a non-standard calendar, 'noleap', to a pandas.DatetimeIndex, which uses dates from the standard calendar.  This may lead to subtle errors in operations that depend on the length of time between dates.\n",
      "  time_index=data.indexes['time'].to_datetimeindex()\n"
     ]
    },
    {
     "name": "stdout",
     "output_type": "stream",
     "text": [
      "Found data, proceeding to re-grid to 1 deg by 1 deg\n",
      "Step 0 of 156\n",
      "Step 50 of 156\n",
      "Step 100 of 156\n",
      "Step 150 of 156\n",
      "Regridding complete\n",
      "CMCC CMCC-CESM r1i1p1 Found 26 files\n",
      "Found data, proceeding to re-grid to 1 deg by 1 deg\n",
      "Step 0 of 156\n",
      "Step 50 of 156\n",
      "Step 100 of 156\n",
      "Step 150 of 156\n",
      "Regridding complete\n",
      "CMCC CMCC-CM r1i1p1 Found 16 files\n",
      "Found data, proceeding to re-grid to 1 deg by 1 deg\n",
      "Step 0 of 156\n",
      "Step 50 of 156\n",
      "Step 100 of 156\n",
      "Step 150 of 156\n",
      "Regridding complete\n",
      "CMCC CMCC-CMS r1i1p1 Found 16 files\n",
      "Found data, proceeding to re-grid to 1 deg by 1 deg\n",
      "Step 0 of 156\n",
      "Step 50 of 156\n",
      "Step 100 of 156\n",
      "Step 150 of 156\n",
      "Regridding complete\n",
      "CNRM-CERFACS CNRM-CM5-2 r1i1p1 Found 16 files\n",
      "Found data, proceeding to re-grid to 1 deg by 1 deg\n",
      "Step 0 of 156\n",
      "Step 50 of 156\n",
      "Step 100 of 156\n",
      "Step 150 of 156\n",
      "Regridding complete\n",
      "CNRM-CERFACS CNRM-CM5 r1i1p1 Found 16 files\n",
      "Found data, proceeding to re-grid to 1 deg by 1 deg\n",
      "Step 0 of 156\n",
      "Step 50 of 156\n",
      "Step 100 of 156\n",
      "Step 150 of 156\n",
      "Regridding complete\n",
      "CSIRO-BOM ACCESS1-0 r1i1p1 Found 1 files\n",
      "Found data, proceeding to re-grid to 1 deg by 1 deg\n",
      "Step 0 of 156\n",
      "Step 50 of 156\n",
      "Step 100 of 156\n",
      "Step 150 of 156\n",
      "Regridding complete\n",
      "CSIRO-BOM ACCESS1-3 r1i1p1 Found 1 files\n",
      "Found data, proceeding to re-grid to 1 deg by 1 deg\n",
      "Step 0 of 156\n",
      "Step 50 of 156\n",
      "Step 100 of 156\n",
      "Step 150 of 156\n",
      "Regridding complete\n",
      "CSIRO-QCCCE CSIRO-Mk3-6-0 r1i1p1 Found 1 files\n"
     ]
    },
    {
     "name": "stderr",
     "output_type": "stream",
     "text": [
      "<ipython-input-104-04d5cd25cee7>:42: RuntimeWarning: Converting a CFTimeIndex with dates from a non-standard calendar, 'noleap', to a pandas.DatetimeIndex, which uses dates from the standard calendar.  This may lead to subtle errors in operations that depend on the length of time between dates.\n",
      "  time_index=data.indexes['time'].to_datetimeindex()\n"
     ]
    },
    {
     "name": "stdout",
     "output_type": "stream",
     "text": [
      "Found data, proceeding to re-grid to 1 deg by 1 deg\n",
      "Step 0 of 156\n",
      "Step 50 of 156\n",
      "Step 100 of 156\n",
      "Step 150 of 156\n",
      "Regridding complete\n",
      "ICHEC EC-EARTH r1i1p1 Found 16 files\n",
      "Found data, proceeding to re-grid to 1 deg by 1 deg\n",
      "Step 0 of 156\n",
      "Step 50 of 156\n",
      "Step 100 of 156\n",
      "Step 150 of 156\n",
      "Regridding complete\n",
      "INM inmcm4 r1i1p1 Found 1 files\n"
     ]
    },
    {
     "name": "stderr",
     "output_type": "stream",
     "text": [
      "<ipython-input-104-04d5cd25cee7>:42: RuntimeWarning: Converting a CFTimeIndex with dates from a non-standard calendar, 'noleap', to a pandas.DatetimeIndex, which uses dates from the standard calendar.  This may lead to subtle errors in operations that depend on the length of time between dates.\n",
      "  time_index=data.indexes['time'].to_datetimeindex()\n"
     ]
    },
    {
     "name": "stdout",
     "output_type": "stream",
     "text": [
      "Found data, proceeding to re-grid to 1 deg by 1 deg\n",
      "Step 0 of 156\n",
      "Step 50 of 156\n",
      "Step 100 of 156\n",
      "Step 150 of 156\n",
      "Regridding complete\n",
      "IPSL IPSL-CM5A-LR r1i1p1 Found 1 files\n"
     ]
    },
    {
     "name": "stderr",
     "output_type": "stream",
     "text": [
      "<ipython-input-104-04d5cd25cee7>:42: RuntimeWarning: Converting a CFTimeIndex with dates from a non-standard calendar, 'noleap', to a pandas.DatetimeIndex, which uses dates from the standard calendar.  This may lead to subtle errors in operations that depend on the length of time between dates.\n",
      "  time_index=data.indexes['time'].to_datetimeindex()\n"
     ]
    },
    {
     "name": "stdout",
     "output_type": "stream",
     "text": [
      "Found data, proceeding to re-grid to 1 deg by 1 deg\n",
      "Step 0 of 156\n",
      "Step 50 of 156\n",
      "Step 100 of 156\n",
      "Step 150 of 156\n",
      "Regridding complete\n",
      "IPSL IPSL-CM5A-MR r1i1p1 Found 1 files\n"
     ]
    },
    {
     "name": "stderr",
     "output_type": "stream",
     "text": [
      "<ipython-input-104-04d5cd25cee7>:42: RuntimeWarning: Converting a CFTimeIndex with dates from a non-standard calendar, 'noleap', to a pandas.DatetimeIndex, which uses dates from the standard calendar.  This may lead to subtle errors in operations that depend on the length of time between dates.\n",
      "  time_index=data.indexes['time'].to_datetimeindex()\n"
     ]
    },
    {
     "name": "stdout",
     "output_type": "stream",
     "text": [
      "Found data, proceeding to re-grid to 1 deg by 1 deg\n",
      "Step 0 of 156\n",
      "Step 50 of 156\n",
      "Step 100 of 156\n",
      "Step 150 of 156\n",
      "Regridding complete\n",
      "IPSL IPSL-CM5B-LR r1i1p1 Found 1 files\n"
     ]
    },
    {
     "name": "stderr",
     "output_type": "stream",
     "text": [
      "<ipython-input-104-04d5cd25cee7>:42: RuntimeWarning: Converting a CFTimeIndex with dates from a non-standard calendar, 'noleap', to a pandas.DatetimeIndex, which uses dates from the standard calendar.  This may lead to subtle errors in operations that depend on the length of time between dates.\n",
      "  time_index=data.indexes['time'].to_datetimeindex()\n"
     ]
    },
    {
     "name": "stdout",
     "output_type": "stream",
     "text": [
      "Found data, proceeding to re-grid to 1 deg by 1 deg\n",
      "Step 0 of 156\n",
      "Step 50 of 156\n",
      "Step 100 of 156\n",
      "Step 150 of 156\n",
      "Regridding complete\n",
      "MIROC MIROC-ESM-CHEM r1i1p1 Found 1 files\n",
      "Found data, proceeding to re-grid to 1 deg by 1 deg\n",
      "Step 0 of 156\n",
      "Step 50 of 156\n",
      "Step 100 of 156\n",
      "Step 150 of 156\n",
      "Regridding complete\n",
      "MIROC MIROC-ESM r1i1p1 Found 1 files\n",
      "Found data, proceeding to re-grid to 1 deg by 1 deg\n",
      "Step 0 of 156\n",
      "Step 50 of 156\n",
      "Step 100 of 156\n",
      "Step 150 of 156\n",
      "Regridding complete\n",
      "MIROC MIROC5 r1i1p1 Found 1 files\n"
     ]
    },
    {
     "name": "stderr",
     "output_type": "stream",
     "text": [
      "<ipython-input-104-04d5cd25cee7>:42: RuntimeWarning: Converting a CFTimeIndex with dates from a non-standard calendar, 'noleap', to a pandas.DatetimeIndex, which uses dates from the standard calendar.  This may lead to subtle errors in operations that depend on the length of time between dates.\n",
      "  time_index=data.indexes['time'].to_datetimeindex()\n"
     ]
    },
    {
     "name": "stdout",
     "output_type": "stream",
     "text": [
      "Found data, proceeding to re-grid to 1 deg by 1 deg\n",
      "Step 0 of 156\n",
      "Step 50 of 156\n",
      "Step 100 of 156\n",
      "Step 150 of 156\n",
      "Regridding complete\n",
      "MOHC HadCM3 r1i1p1 Found 6 files\n"
     ]
    },
    {
     "name": "stderr",
     "output_type": "stream",
     "text": [
      "<ipython-input-104-04d5cd25cee7>:42: RuntimeWarning: Converting a CFTimeIndex with dates from a non-standard calendar, '360_day', to a pandas.DatetimeIndex, which uses dates from the standard calendar.  This may lead to subtle errors in operations that depend on the length of time between dates.\n",
      "  time_index=data.indexes['time'].to_datetimeindex()\n"
     ]
    },
    {
     "name": "stdout",
     "output_type": "stream",
     "text": [
      "Found data, proceeding to re-grid to 1 deg by 1 deg\n",
      "Step 0 of 156\n",
      "Step 50 of 156\n",
      "Step 100 of 156\n",
      "Step 150 of 156\n",
      "Regridding complete\n",
      "MOHC HadGEM2-CC r1i1p1 Found 2 files\n"
     ]
    },
    {
     "name": "stderr",
     "output_type": "stream",
     "text": [
      "<ipython-input-104-04d5cd25cee7>:42: RuntimeWarning: Converting a CFTimeIndex with dates from a non-standard calendar, '360_day', to a pandas.DatetimeIndex, which uses dates from the standard calendar.  This may lead to subtle errors in operations that depend on the length of time between dates.\n",
      "  time_index=data.indexes['time'].to_datetimeindex()\n"
     ]
    },
    {
     "name": "stdout",
     "output_type": "stream",
     "text": [
      "Found data, proceeding to re-grid to 1 deg by 1 deg\n",
      "Step 0 of 156\n",
      "Step 50 of 156\n",
      "Step 100 of 156\n",
      "Step 150 of 156\n",
      "Regridding complete\n",
      "MOHC HadGEM2-ES r1i1p1 Found 2 files\n"
     ]
    },
    {
     "name": "stderr",
     "output_type": "stream",
     "text": [
      "<ipython-input-104-04d5cd25cee7>:42: RuntimeWarning: Converting a CFTimeIndex with dates from a non-standard calendar, '360_day', to a pandas.DatetimeIndex, which uses dates from the standard calendar.  This may lead to subtle errors in operations that depend on the length of time between dates.\n",
      "  time_index=data.indexes['time'].to_datetimeindex()\n"
     ]
    },
    {
     "name": "stdout",
     "output_type": "stream",
     "text": [
      "Found data, proceeding to re-grid to 1 deg by 1 deg\n",
      "Step 0 of 156\n",
      "Step 50 of 156\n",
      "Step 100 of 156\n",
      "Step 150 of 156\n",
      "Regridding complete\n",
      "MPI-M MPI-ESM-LR r1i1p1 Found 1 files\n",
      "Found data, proceeding to re-grid to 1 deg by 1 deg\n",
      "Step 0 of 156\n",
      "Step 50 of 156\n",
      "Step 100 of 156\n",
      "Step 150 of 156\n",
      "Regridding complete\n",
      "MPI-M MPI-ESM-MR r1i1p1 Found 3 files\n",
      "Found data, proceeding to re-grid to 1 deg by 1 deg\n",
      "Step 0 of 156\n",
      "Step 50 of 156\n",
      "Step 100 of 156\n",
      "Step 150 of 156\n",
      "Regridding complete\n",
      "MPI-M MPI-ESM-P r1i1p1 Found 1 files\n"
     ]
    },
    {
     "name": "stderr",
     "output_type": "stream",
     "text": [
      "/home/users/eboland/.conda/envs/nbenvconda/lib/python3.9/site-packages/xarray/coding/times.py:117: SerializationWarning: Ambiguous reference date string: 850-1-1 00:00:00. The first value is assumed to be the year hence will be padded with zeros to remove the ambiguity (the padded reference date string is: 0850-1-1 00:00:00). To remove this message, remove the ambiguity by padding your reference date strings with zeros.\n",
      "  warnings.warn(warning_msg, SerializationWarning)\n"
     ]
    },
    {
     "name": "stdout",
     "output_type": "stream",
     "text": [
      "Found data, proceeding to re-grid to 1 deg by 1 deg\n",
      "Step 0 of 156\n",
      "Step 50 of 156\n",
      "Step 100 of 156\n",
      "Step 150 of 156\n",
      "Regridding complete\n",
      "NASA-GISS GISS-E2-H-CC r1i1p1 Found 3 files\n"
     ]
    },
    {
     "name": "stderr",
     "output_type": "stream",
     "text": [
      "<ipython-input-104-04d5cd25cee7>:42: RuntimeWarning: Converting a CFTimeIndex with dates from a non-standard calendar, 'noleap', to a pandas.DatetimeIndex, which uses dates from the standard calendar.  This may lead to subtle errors in operations that depend on the length of time between dates.\n",
      "  time_index=data.indexes['time'].to_datetimeindex()\n"
     ]
    },
    {
     "name": "stdout",
     "output_type": "stream",
     "text": [
      "Found data, proceeding to re-grid to 1 deg by 1 deg\n",
      "Step 0 of 156\n",
      "Step 50 of 156\n",
      "Step 100 of 156\n",
      "Step 150 of 156\n",
      "Regridding complete\n",
      "NASA-GISS GISS-E2-H r1i1p1 Found 3 files\n"
     ]
    },
    {
     "name": "stderr",
     "output_type": "stream",
     "text": [
      "<ipython-input-104-04d5cd25cee7>:42: RuntimeWarning: Converting a CFTimeIndex with dates from a non-standard calendar, 'noleap', to a pandas.DatetimeIndex, which uses dates from the standard calendar.  This may lead to subtle errors in operations that depend on the length of time between dates.\n",
      "  time_index=data.indexes['time'].to_datetimeindex()\n"
     ]
    },
    {
     "name": "stdout",
     "output_type": "stream",
     "text": [
      "Found data, proceeding to re-grid to 1 deg by 1 deg\n",
      "Step 0 of 156\n",
      "Step 50 of 156\n",
      "Step 100 of 156\n",
      "Step 150 of 156\n",
      "Regridding complete\n",
      "NASA-GISS GISS-E2-R-CC r1i1p1 Found 7 files\n"
     ]
    },
    {
     "name": "stderr",
     "output_type": "stream",
     "text": [
      "<ipython-input-104-04d5cd25cee7>:42: RuntimeWarning: Converting a CFTimeIndex with dates from a non-standard calendar, 'noleap', to a pandas.DatetimeIndex, which uses dates from the standard calendar.  This may lead to subtle errors in operations that depend on the length of time between dates.\n",
      "  time_index=data.indexes['time'].to_datetimeindex()\n"
     ]
    },
    {
     "name": "stdout",
     "output_type": "stream",
     "text": [
      "Found data, proceeding to re-grid to 1 deg by 1 deg\n",
      "Step 0 of 156\n",
      "Step 50 of 156\n",
      "Step 100 of 156\n",
      "Step 150 of 156\n",
      "Regridding complete\n",
      "NASA-GISS GISS-E2-R r1i1p1 Found 7 files\n"
     ]
    },
    {
     "name": "stderr",
     "output_type": "stream",
     "text": [
      "<ipython-input-104-04d5cd25cee7>:42: RuntimeWarning: Converting a CFTimeIndex with dates from a non-standard calendar, 'noleap', to a pandas.DatetimeIndex, which uses dates from the standard calendar.  This may lead to subtle errors in operations that depend on the length of time between dates.\n",
      "  time_index=data.indexes['time'].to_datetimeindex()\n"
     ]
    },
    {
     "name": "stdout",
     "output_type": "stream",
     "text": [
      "Found data, proceeding to re-grid to 1 deg by 1 deg\n",
      "Step 0 of 156\n",
      "Step 50 of 156\n",
      "Step 100 of 156\n",
      "Step 150 of 156\n",
      "Regridding complete\n",
      "NCAR CCSM4 r1i1p1 Found 1 files\n"
     ]
    },
    {
     "name": "stderr",
     "output_type": "stream",
     "text": [
      "<ipython-input-104-04d5cd25cee7>:42: RuntimeWarning: Converting a CFTimeIndex with dates from a non-standard calendar, 'noleap', to a pandas.DatetimeIndex, which uses dates from the standard calendar.  This may lead to subtle errors in operations that depend on the length of time between dates.\n",
      "  time_index=data.indexes['time'].to_datetimeindex()\n"
     ]
    },
    {
     "name": "stdout",
     "output_type": "stream",
     "text": [
      "Found data, proceeding to re-grid to 1 deg by 1 deg\n",
      "Step 0 of 156\n",
      "Step 50 of 156\n",
      "Step 100 of 156\n",
      "Step 150 of 156\n",
      "Regridding complete\n",
      "NCC NorESM1-M r1i1p1 Found 1 files\n"
     ]
    },
    {
     "name": "stderr",
     "output_type": "stream",
     "text": [
      "<ipython-input-104-04d5cd25cee7>:42: RuntimeWarning: Converting a CFTimeIndex with dates from a non-standard calendar, 'noleap', to a pandas.DatetimeIndex, which uses dates from the standard calendar.  This may lead to subtle errors in operations that depend on the length of time between dates.\n",
      "  time_index=data.indexes['time'].to_datetimeindex()\n"
     ]
    },
    {
     "name": "stdout",
     "output_type": "stream",
     "text": [
      "Found data, proceeding to re-grid to 1 deg by 1 deg\n",
      "Step 0 of 156\n",
      "Step 50 of 156\n",
      "Step 100 of 156\n",
      "Step 150 of 156\n",
      "Regridding complete\n",
      "NCC NorESM1-ME r1i1p1 Found 1 files\n"
     ]
    },
    {
     "name": "stderr",
     "output_type": "stream",
     "text": [
      "<ipython-input-104-04d5cd25cee7>:42: RuntimeWarning: Converting a CFTimeIndex with dates from a non-standard calendar, 'noleap', to a pandas.DatetimeIndex, which uses dates from the standard calendar.  This may lead to subtle errors in operations that depend on the length of time between dates.\n",
      "  time_index=data.indexes['time'].to_datetimeindex()\n"
     ]
    },
    {
     "name": "stdout",
     "output_type": "stream",
     "text": [
      "Found data, proceeding to re-grid to 1 deg by 1 deg\n",
      "Step 0 of 156\n",
      "Step 50 of 156\n",
      "Step 100 of 156\n",
      "Step 150 of 156\n",
      "Regridding complete\n",
      "NIMR-KMA HadGEM2-AO r1i1p1 Found 1 files\n"
     ]
    },
    {
     "name": "stderr",
     "output_type": "stream",
     "text": [
      "<ipython-input-104-04d5cd25cee7>:42: RuntimeWarning: Converting a CFTimeIndex with dates from a non-standard calendar, '360_day', to a pandas.DatetimeIndex, which uses dates from the standard calendar.  This may lead to subtle errors in operations that depend on the length of time between dates.\n",
      "  time_index=data.indexes['time'].to_datetimeindex()\n"
     ]
    },
    {
     "name": "stdout",
     "output_type": "stream",
     "text": [
      "Found data, proceeding to re-grid to 1 deg by 1 deg\n",
      "Step 0 of 156\n",
      "Step 50 of 156\n",
      "Step 100 of 156\n",
      "Step 150 of 156\n",
      "Regridding complete\n",
      "NOAA-GFDL GFDL-CM2p1 r1i1p1 Found 36 files\n"
     ]
    },
    {
     "name": "stderr",
     "output_type": "stream",
     "text": [
      "<ipython-input-104-04d5cd25cee7>:42: RuntimeWarning: Converting a CFTimeIndex with dates from a non-standard calendar, 'julian', to a pandas.DatetimeIndex, which uses dates from the standard calendar.  This may lead to subtle errors in operations that depend on the length of time between dates.\n",
      "  time_index=data.indexes['time'].to_datetimeindex()\n"
     ]
    },
    {
     "name": "stdout",
     "output_type": "stream",
     "text": [
      "Found data, proceeding to re-grid to 1 deg by 1 deg\n",
      "Step 0 of 156\n",
      "Step 50 of 156\n",
      "Step 100 of 156\n",
      "Step 150 of 156\n",
      "Regridding complete\n",
      "NOAA-GFDL GFDL-CM3 r1i1p1 Found 30 files\n"
     ]
    },
    {
     "name": "stderr",
     "output_type": "stream",
     "text": [
      "<ipython-input-104-04d5cd25cee7>:42: RuntimeWarning: Converting a CFTimeIndex with dates from a non-standard calendar, 'noleap', to a pandas.DatetimeIndex, which uses dates from the standard calendar.  This may lead to subtle errors in operations that depend on the length of time between dates.\n",
      "  time_index=data.indexes['time'].to_datetimeindex()\n"
     ]
    },
    {
     "name": "stdout",
     "output_type": "stream",
     "text": [
      "Found data, proceeding to re-grid to 1 deg by 1 deg\n",
      "Step 0 of 156\n",
      "Step 50 of 156\n",
      "Step 100 of 156\n",
      "Step 150 of 156\n",
      "Regridding complete\n",
      "NOAA-GFDL GFDL-ESM2G r1i1p1 Found 29 files\n"
     ]
    },
    {
     "name": "stderr",
     "output_type": "stream",
     "text": [
      "<ipython-input-104-04d5cd25cee7>:42: RuntimeWarning: Converting a CFTimeIndex with dates from a non-standard calendar, 'noleap', to a pandas.DatetimeIndex, which uses dates from the standard calendar.  This may lead to subtle errors in operations that depend on the length of time between dates.\n",
      "  time_index=data.indexes['time'].to_datetimeindex()\n"
     ]
    },
    {
     "name": "stdout",
     "output_type": "stream",
     "text": [
      "Found data, proceeding to re-grid to 1 deg by 1 deg\n",
      "Step 0 of 156\n",
      "Step 50 of 156\n",
      "Step 100 of 156\n",
      "Step 150 of 156\n",
      "Regridding complete\n",
      "NOAA-GFDL GFDL-ESM2M r1i1p1 Found 29 files\n"
     ]
    },
    {
     "name": "stderr",
     "output_type": "stream",
     "text": [
      "<ipython-input-104-04d5cd25cee7>:42: RuntimeWarning: Converting a CFTimeIndex with dates from a non-standard calendar, 'noleap', to a pandas.DatetimeIndex, which uses dates from the standard calendar.  This may lead to subtle errors in operations that depend on the length of time between dates.\n",
      "  time_index=data.indexes['time'].to_datetimeindex()\n"
     ]
    },
    {
     "name": "stdout",
     "output_type": "stream",
     "text": [
      "Found data, proceeding to re-grid to 1 deg by 1 deg\n",
      "Step 0 of 156\n",
      "Step 50 of 156\n",
      "Step 100 of 156\n",
      "Step 150 of 156\n",
      "Regridding complete\n",
      "NSF-DOE-NCAR CESM1-BGC r1i1p1 Found 1 files\n"
     ]
    },
    {
     "name": "stderr",
     "output_type": "stream",
     "text": [
      "<ipython-input-104-04d5cd25cee7>:42: RuntimeWarning: Converting a CFTimeIndex with dates from a non-standard calendar, 'noleap', to a pandas.DatetimeIndex, which uses dates from the standard calendar.  This may lead to subtle errors in operations that depend on the length of time between dates.\n",
      "  time_index=data.indexes['time'].to_datetimeindex()\n"
     ]
    },
    {
     "name": "stdout",
     "output_type": "stream",
     "text": [
      "Found data, proceeding to re-grid to 1 deg by 1 deg\n",
      "Step 0 of 156\n",
      "Step 50 of 156\n",
      "Step 100 of 156\n",
      "Step 150 of 156\n",
      "Regridding complete\n",
      "NSF-DOE-NCAR CESM1-CAM5-1-FV2 r1i1p1 Found 1 files\n"
     ]
    },
    {
     "name": "stderr",
     "output_type": "stream",
     "text": [
      "<ipython-input-104-04d5cd25cee7>:42: RuntimeWarning: Converting a CFTimeIndex with dates from a non-standard calendar, 'noleap', to a pandas.DatetimeIndex, which uses dates from the standard calendar.  This may lead to subtle errors in operations that depend on the length of time between dates.\n",
      "  time_index=data.indexes['time'].to_datetimeindex()\n"
     ]
    },
    {
     "name": "stdout",
     "output_type": "stream",
     "text": [
      "Found data, proceeding to re-grid to 1 deg by 1 deg\n",
      "Step 0 of 156\n",
      "Step 50 of 156\n",
      "Step 100 of 156\n",
      "Step 150 of 156\n",
      "Regridding complete\n",
      "NSF-DOE-NCAR CESM1-CAM5 r1i1p1 Found 1 files\n"
     ]
    },
    {
     "name": "stderr",
     "output_type": "stream",
     "text": [
      "<ipython-input-104-04d5cd25cee7>:42: RuntimeWarning: Converting a CFTimeIndex with dates from a non-standard calendar, 'noleap', to a pandas.DatetimeIndex, which uses dates from the standard calendar.  This may lead to subtle errors in operations that depend on the length of time between dates.\n",
      "  time_index=data.indexes['time'].to_datetimeindex()\n"
     ]
    },
    {
     "name": "stdout",
     "output_type": "stream",
     "text": [
      "Found data, proceeding to re-grid to 1 deg by 1 deg\n",
      "Step 0 of 156\n",
      "Step 50 of 156\n",
      "Step 100 of 156\n",
      "Step 150 of 156\n",
      "Regridding complete\n",
      "NSF-DOE-NCAR CESM1-FASTCHEM r1i1p1 Found 1 files\n"
     ]
    },
    {
     "name": "stderr",
     "output_type": "stream",
     "text": [
      "<ipython-input-104-04d5cd25cee7>:42: RuntimeWarning: Converting a CFTimeIndex with dates from a non-standard calendar, 'noleap', to a pandas.DatetimeIndex, which uses dates from the standard calendar.  This may lead to subtle errors in operations that depend on the length of time between dates.\n",
      "  time_index=data.indexes['time'].to_datetimeindex()\n"
     ]
    },
    {
     "name": "stdout",
     "output_type": "stream",
     "text": [
      "Found data, proceeding to re-grid to 1 deg by 1 deg\n",
      "Step 0 of 156\n",
      "Step 50 of 156\n",
      "Step 100 of 156\n",
      "Step 150 of 156\n",
      "Regridding complete\n",
      "NSF-DOE-NCAR CESM1-WACCM r1i1p1 Found 1 files\n"
     ]
    },
    {
     "name": "stderr",
     "output_type": "stream",
     "text": [
      "<ipython-input-104-04d5cd25cee7>:42: RuntimeWarning: Converting a CFTimeIndex with dates from a non-standard calendar, 'noleap', to a pandas.DatetimeIndex, which uses dates from the standard calendar.  This may lead to subtle errors in operations that depend on the length of time between dates.\n",
      "  time_index=data.indexes['time'].to_datetimeindex()\n"
     ]
    },
    {
     "name": "stdout",
     "output_type": "stream",
     "text": [
      "Found data, proceeding to re-grid to 1 deg by 1 deg\n",
      "Step 0 of 156\n",
      "Step 50 of 156\n",
      "Step 100 of 156\n",
      "Step 150 of 156\n",
      "Regridding complete\n",
      "All regridding complete\n"
     ]
    }
   ],
   "source": [
    "data_all=[]\n",
    "\n",
    "for index,row in df.iterrows():\n",
    "    model=row['Model']\n",
    "    centre=row['Centre']\n",
    "    run=row['RunID']\n",
    "    \n",
    "    try:\n",
    "        files=bp.get_files(row)\n",
    "    except ValueError:\n",
    "        print('{} {} {} throwing value error on listing files'.format(centre,model,run))  \n",
    "        files=['/badc/cmip5/data/cmip5/output1'+row.Path+'/'+row['DataFiles'].split(';')[0],] #Fix for EC-EARTH double netcdf files\n",
    "        \n",
    "    print('{} {} {} Found {} files'.format(centre,model,run,len(files)))\n",
    "    \n",
    "    if model == 'FGOALS-g2':\n",
    "        data=xr.open_mfdataset(files,decode_times=False)\n",
    "        data['time']=data['time'].assign_attrs({'units':data['time'].units+'-01'}) #Fix for time units\n",
    "        data=xr.decode_cf(data)\n",
    "    else :   \n",
    "        data=xr.open_mfdataset(files)\n",
    "        \n",
    "    #Subset by time\n",
    "    data=data.sel(time=slice(time_start,time_end))\n",
    "        \n",
    "    old_lat=data['lat']\n",
    "    old_lon=data['lon']\n",
    "    #Put 1d lat/lon on a grid\n",
    "    if old_lat.ndim==1:\n",
    "        old_lat,old_lon=np.meshgrid(old_lat,old_lon)\n",
    "    else:\n",
    "        old_lat=old_lat.data\n",
    "        old_lon=old_lon.data\n",
    "    #Make sure all lons lie in -180 to +180\n",
    "    old_lon=xr.where(old_lon>180,old_lon-360,old_lon)\n",
    "    old_lon=xr.where(old_lon<-180,old_lon+360,old_lon)\n",
    "       \n",
    "    nt=len(data['time'])\n",
    "    if str(data['time'].dtype).startswith('datetime64'):\n",
    "        time_index=data.indexes['time']\n",
    "    else: #Replace cf time data with numpy datetime\n",
    "        time_index=data.indexes['time'].to_datetimeindex()\n",
    "       \n",
    "    print('Found data, proceeding to re-grid to 1 deg by 1 deg')\n",
    "    resample_data=setup_regrid(old_lat,old_lon) # Generate re-gridding kernel\n",
    "    data_1deg=[]\n",
    "    \n",
    "    #Catch for relative salinity\n",
    "    if var == 'sos' and centre in ['NCAR','NSF-DOE-NCAR']:\n",
    "        df_soga = bp.catalogue(dataset='cmip5',Experiment=experiment,Var='soga',RunID='r1i1p1',Model='CCSM4')\n",
    "        data_soga = bp.open_dataset(df_soga)\n",
    "        data_soga=data_soga.sel(time=slice(time_start,time_end))        \n",
    "        data[var]=data[var]+data_soga.soga\n",
    "      \n",
    "    for tstep in range(0,nt):      \n",
    "        if np.mod(tstep,50)==0:\n",
    "            print('Step {} of {}'.format(tstep,nt))\n",
    "        data_in=data[var].isel(time=tstep)\n",
    "        if old_lon.shape == data_in.shape:\n",
    "            data_in = data_in.values\n",
    "        else: \n",
    "            data_in = data_in.values.T\n",
    "        \n",
    "        #Catch for sign of windstress data\n",
    "        if (var == ['tauuo','tauvo']) and (centre in ['NCAR','NSF-DOE-NCAR']):\n",
    "            data_in = -data_in\n",
    "    \n",
    "        #Catch for Kelvin/C \n",
    "        if var=='tos' and model == 'GFDL-CM2p1':\n",
    "            data_in = data_in+273.15\n",
    "        \n",
    "        data_1deg.append(repeat_regrid(data_in,resample_data,time_index[tstep]))\n",
    "\n",
    "    data_1deg=xr.combine_nested(data_1deg,concat_dim='time')\n",
    "\n",
    " #   data['time']=time_index\n",
    "  #  regridder = xe.Regridder(data[var].squeeze(), ds_out, 'bilinear',ignore_degenerate=True)\n",
    " #   data_1deg = regridder(data[var].squeeze().load())\n",
    "\n",
    "    print('Regridding complete')\n",
    "\n",
    "    data_1deg.attrs.update(data[var].attrs)\n",
    "    \n",
    "    if runs == 'all':\n",
    "        data_1deg=data_1deg.assign_coords({'model_run':model+'_'+run})\n",
    "    else :\n",
    "        data_1deg=data_1deg.assign_coords({'model':model,'run':run})\n",
    "    data_all.append(data_1deg)\n",
    "\n",
    "data_all=xr.concat(data_all,dim=dim_id,combine_attrs='drop_conflicts')\n",
    "keys=list(data_all.attrs.keys())\n",
    "for attr in keys:\n",
    "    if attr not in ['long_name','units']: #Only keep listed attributes\n",
    "        del data_all.attrs[attr]\n",
    "data_all.attrs.update({'name':var})\n",
    "        \n",
    "print('All regridding complete')"
   ]
  },
  {
   "cell_type": "markdown",
   "metadata": {
    "tags": []
   },
   "source": [
    "### 4. Plot regridded models to spot any issues"
   ]
  },
  {
   "cell_type": "code",
   "execution_count": 107,
   "metadata": {},
   "outputs": [],
   "source": [
    "data_all.mean(dim=['time']).plot(x='lon',y='lat',col=dim_id,col_wrap=5,robust=True)\n",
    "plt.suptitle('Time mean {}'.format(var),y=1.02,fontweight='bold')\n",
    "plt.savefig(plots_dir+'/cmip5_time_mean_'+var+'_modelthumbnails.png')\n",
    "plt.close()"
   ]
  },
  {
   "cell_type": "markdown",
   "metadata": {},
   "source": [
    "### 5. Calculate and save model spread and model std-deviations"
   ]
  },
  {
   "cell_type": "code",
   "execution_count": 106,
   "metadata": {},
   "outputs": [
    {
     "name": "stderr",
     "output_type": "stream",
     "text": [
      "/home/users/eboland/.conda/envs/nbenvconda/lib/python3.9/site-packages/numpy/lib/nanfunctions.py:1664: RuntimeWarning: Degrees of freedom <= 0 for slice.\n",
      "  var = nanvar(a, axis=axis, dtype=dtype, out=out, ddof=ddof,\n"
     ]
    }
   ],
   "source": [
    "model_std = data_all.std(dim=dim_id)\n",
    "model_std.attrs['units']=data_all.attrs['units']\n",
    "model_std.attrs['name']='stddev_'+data_all.attrs['name']\n",
    "model_std.attrs['long_name']='Ensemble Standard Deviation of '+data_all.attrs['long_name']\n",
    "model_std.attrs['comments']='Calculated for models listed'\n",
    "\n",
    "model_spread = data_all.max(dim=dim_id)-data_all.min(dim=dim_id)\n",
    "model_spread.attrs['units']=data_all.attrs['units']\n",
    "model_spread.attrs['name']='spread_'+data_all.attrs['name']\n",
    "model_spread.attrs['long_name']='Ensemble Spread of '+data_all.attrs['long_name']\n",
    "model_std.attrs['comments']='Calculated for models listed'\n",
    "\n",
    "dataset_out = xr.Dataset(data_vars={'model_std':model_std,'model_spread':model_spread,'models':data_all['model']})\n",
    "dataset_out.attrs['comments']='Generated on '+str(np.datetime64('today'))\n",
    "dataset_out.to_netcdf((save_dir+'/cmip5_stdspread_{}_{}.nc').format(var,dim_id))\n",
    "\n",
    "fig=plt.figure(figsize=[12,4])\n",
    "ax=plt.subplot(1,2,1)\n",
    "model_std.mean(dim='time').plot(x='lon',y='lat',robust=True,ax=ax)\n",
    "ax.set_title('Time mean model std. dev. in {}'.format(var),y=1.02,fontweight='bold')     \n",
    "\n",
    "ax=plt.subplot(1,2,2)\n",
    "model_spread.mean(dim='time').plot(x='lon',y='lat',robust=True,ax=ax)\n",
    "ax.set_title('Time mean model spread in {}'.format(var),y=1.02,fontweight='bold')   \n",
    "plt.savefig(plots_dir+'/cmip5_stdspread_{}_{}.png'.format(var,dim_id))\n",
    "plt.close()"
   ]
  },
  {
   "cell_type": "markdown",
   "metadata": {},
   "source": [
    "## 6. Convert to python executable [optional]"
   ]
  },
  {
   "cell_type": "code",
   "execution_count": 2,
   "metadata": {},
   "outputs": [
    {
     "name": "stdout",
     "output_type": "stream",
     "text": [
      "[NbConvertApp] Converting notebook CMIP5_ranges.ipynb to script\n",
      "[NbConvertApp] Writing 8872 bytes to CMIP5_ranges.py\n"
     ]
    }
   ],
   "source": [
    "!jupyter nbconvert --to script CMIP5_ranges.ipynb"
   ]
  }
 ],
 "metadata": {
  "kernelspec": {
   "display_name": "nbenvconda",
   "language": "python",
   "name": "nbenvconda"
  },
  "language_info": {
   "codemirror_mode": {
    "name": "ipython",
    "version": 3
   },
   "file_extension": ".py",
   "mimetype": "text/x-python",
   "name": "python",
   "nbconvert_exporter": "python",
   "pygments_lexer": "ipython3",
   "version": "3.9.4"
  }
 },
 "nbformat": 4,
 "nbformat_minor": 4
}
