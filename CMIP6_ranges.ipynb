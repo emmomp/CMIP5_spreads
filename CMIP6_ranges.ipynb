{
 "cells": [
  {
   "cell_type": "markdown",
   "metadata": {},
   "source": [
    "# Calculating inter-model spreads in CMIP6 variables\n",
    "E Boland 2021 - contact emmomp@bas.ac.uk for any issues\n",
    "\n",
    "This notebook is designed to access the JASMIN CMIP6 holdings and calculate inter-model spreads and standard deviations in a given 2D variable. \n",
    "\n",
    "Requires baspy to access the CMIP6 holdings, accessible here: https://github.com/scotthosking/baspy\n",
    "\n",
    "Options: \n",
    "- to include all runs, or only one per model, or one per modelling centre. \n",
    "- choose experiment\n",
    "- choose time span\n",
    "\n",
    "### Setting up "
   ]
  },
  {
   "cell_type": "code",
   "execution_count": 1,
   "metadata": {},
   "outputs": [],
   "source": [
    "import sys\n",
    "sys.path.insert(0,'/home/users/eboland/python')\n",
    "import baspy as bp\n",
    "import xarray as xr\n",
    "import pyresample\n",
    "import numpy as np\n",
    "import matplotlib.pyplot as plt\n",
    "import pandas as pd\n",
    "\n",
    "save_dir='../data_out' # where to save results\n",
    "plots_dir='../plots' # where to save plots"
   ]
  },
  {
   "cell_type": "markdown",
   "metadata": {
    "tags": []
   },
   "source": [
    "### Defining functions to re-grid the model data\n",
    "\n",
    "Note that these default to re-gridding everything to a 1 degree x 1 degree grid, but also take new_lat and new_lon as arguments if you want a different (regular) grid"
   ]
  },
  {
   "cell_type": "code",
   "execution_count": 2,
   "metadata": {
    "tags": []
   },
   "outputs": [],
   "source": [
    "#Function to get re-gridding kernel for applying at each timestep\n",
    "def setup_regrid(old_lat,old_lon,new_lat=np.linspace(-89.5,89.5,180),new_lon=np.linspace(-179,180,360)):\n",
    "    orig_grid = pyresample.geometry.SwathDefinition(lons=old_lon.ravel(), lats=old_lat.ravel())\n",
    "    yi,xi=np.meshgrid(new_lat,new_lon)\n",
    "    new_grid  = pyresample.geometry.GridDefinition(lons=xi,lats=yi)\n",
    "    resample_data = pyresample.kd_tree.get_neighbour_info(orig_grid, new_grid, 200000, neighbours=1)\n",
    "    return resample_data   \n",
    "#Function to apply re-gridding kernel, return as xarray dataarray\n",
    "\n",
    "def repeat_regrid(ds,resample_data,new_lon=np.linspace(-179,180,360), new_lat=np.linspace(-89.5,89.5,180),loop_dim='time'):    \n",
    "    grid_shape=[new_lon.size,new_lat.size]\n",
    "    stack_dims=ds.dims[1:]\n",
    "    foo = pyresample.kd_tree.get_sample_from_neighbour_info('nn', grid_shape, ds.stack(z=stack_dims).transpose(...,loop_dim).values,\n",
    "                                              resample_data[0], resample_data[1],resample_data[2])    \n",
    "    ds2=xr.DataArray(foo,dims=['lon','lat',loop_dim],coords={'lon':(('lon'),new_lon),'lat':(('lat'),new_lat),loop_dim:(loop_dim,ds[loop_dim])})\n",
    "    return ds2"
   ]
  },
  {
   "cell_type": "code",
   "execution_count": 3,
   "metadata": {},
   "outputs": [],
   "source": [
    "from cmip6_preprocessing.preprocessing import rename_cmip6,promote_empty_dims,broadcast_lonlat,correct_lon,correct_coordinates,parse_lon_lat_bounds, maybe_convert_bounds_to_vertex,maybe_convert_vertex_to_bounds\n",
    "\n",
    "def wrapper(ds):\n",
    "    ds = ds.copy()\n",
    "    ds = rename_cmip6(ds)\n",
    "    ds = promote_empty_dims(ds)\n",
    "    ds = broadcast_lonlat(ds)\n",
    "   # ds = replace_x_y_nominal_lat_lon(ds)\n",
    "    ds = correct_lon(ds)\n",
    "    ds = correct_coordinates(ds)\n",
    "    #ds = parse_lon_lat_bounds(ds)\n",
    "   # ds = maybe_convert_bounds_to_vertex(ds)\n",
    "   # ds = maybe_convert_vertex_to_bounds(ds)\n",
    "    return ds"
   ]
  },
  {
   "cell_type": "markdown",
   "metadata": {},
   "source": [
    "### 1. Choose the variable, experiment, and time span you want"
   ]
  },
  {
   "cell_type": "code",
   "execution_count": 4,
   "metadata": {},
   "outputs": [],
   "source": [
    "var='hfds' #'tos','sos','hfds','tauuo','tauvo'\n",
    "experiment='historical' #or rcp45 etc\n",
    "time_start='1992-01-12' # In format 'YYYY-MM-DD' or None for the start/end\n",
    "time_end='2015-01-12' # Need to go beyond end of\n",
    "time_index=pd.date_range(time_start, time_end,freq='M')-pd.DateOffset(days=15) # Valid for monthly data"
   ]
  },
  {
   "cell_type": "markdown",
   "metadata": {},
   "source": [
    "### 2. Find data\n",
    "Can choose to find all runs available, or only one per model"
   ]
  },
  {
   "cell_type": "code",
   "execution_count": 5,
   "metadata": {},
   "outputs": [
    {
     "name": "stdout",
     "output_type": "stream",
     "text": [
      "Finding run r1i1p1 for hfds in historical experiment\n",
      "Updating cached catalogue...\n",
      "catalogue memory usage (MB): 26.848599\n",
      "Found 53 sets of data from 46 models from 25 centres\n"
     ]
    }
   ],
   "source": [
    "#runs='all' # all runs available\n",
    "runs='one' # loads only run r1i1p1 \n",
    "\n",
    "if runs == 'all':\n",
    "    print('Finding all runs for {} in {} experiment'.format(var,experiment))\n",
    "    df = bp.catalogue(dataset='cmip6',Experiment=experiment,Var=var,CMOR='Omon') #All models, all centres, all ensemble members:\n",
    "    dim_id='model_run' #New dimension model_run will be created to calculate spreads/std devs\n",
    "elif runs=='one' :\n",
    "    print('Finding run r1i1p1 for {} in {} experiment'.format(var,experiment))\n",
    "    df = bp.catalogue(dataset='cmip6',Experiment=experiment,Var=var,RunID='r1i1p1f1',CMOR='Omon') # Only one ensemble per model\n",
    "    dim_id = 'model'\n",
    "else:\n",
    "    print('Please set runs to \"all\" or \"one\"') \n",
    "models=set(df.Model)\n",
    "centres=set(df.Centre)\n",
    "print('Found {} sets of data from {} models from {} centres'.format(len(df),len(models),len(centres)))"
   ]
  },
  {
   "cell_type": "markdown",
   "metadata": {},
   "source": [
    "### 2.a. Remove Duplicates\n",
    "Remove duplicates where models are provided on two grids, favour the reporting grid 'gr'"
   ]
  },
  {
   "cell_type": "code",
   "execution_count": 6,
   "metadata": {},
   "outputs": [
    {
     "name": "stdout",
     "output_type": "stream",
     "text": [
      "Found 46 sets of data from 46 models from 25 centres\n"
     ]
    },
    {
     "name": "stderr",
     "output_type": "stream",
     "text": [
      "/home/users/eboland/.conda/envs/nbenvconda/lib/python3.9/site-packages/pandas/core/frame.py:4308: SettingWithCopyWarning: \n",
      "A value is trying to be set on a copy of a slice from a DataFrame\n",
      "\n",
      "See the caveats in the documentation: https://pandas.pydata.org/pandas-docs/stable/user_guide/indexing.html#returning-a-view-versus-a-copy\n",
      "  return super().drop(\n"
     ]
    }
   ],
   "source": [
    "model_list=[]\n",
    "for model in models:\n",
    "    df_subset=df.loc[df['Model']==model]    \n",
    "    if len(df_subset)>1:\n",
    "        # Favor reporting grid over native\n",
    "        df_drop=df_subset.loc[df['Grid']=='gn'] \n",
    "        df.drop(df_drop.index,inplace=True)\n",
    "\n",
    "models=set(df.Model)\n",
    "centres=set(df.Centre)\n",
    "print('Found {} sets of data from {} models from {} centres'.format(len(df),len(models),len(centres)))"
   ]
  },
  {
   "cell_type": "markdown",
   "metadata": {},
   "source": [
    "### 2.b. (optional) Subset models further\n",
    "Choose only one model per centre, comment out this cell to keep all models"
   ]
  },
  {
   "cell_type": "code",
   "execution_count": 77,
   "metadata": {},
   "outputs": [],
   "source": [
    "#model_list=[]\n",
    "#for centre in centres:\n",
    "#    df_subset=df.loc[df['Centre']==centre]\n",
    "#    model_subset=set(df_subset.Model)\n",
    "#    #choose one\n",
    "#    foo=model_subset.pop()\n",
    "#    model_list.append(foo)\n",
    "#df=df.loc[df['Model'].isin(model_list)]\n",
    "#models=set(df.Model)\n",
    "#centres=set(df.Centre)\n",
    "#print('Found {} sets of data from {} models from {} centres'.format(len(df),len(models),len(centres)))"
   ]
  },
  {
   "cell_type": "markdown",
   "metadata": {},
   "source": [
    "### 3. Get data from each model, regridding as you go"
   ]
  },
  {
   "cell_type": "code",
   "execution_count": null,
   "metadata": {},
   "outputs": [
    {
     "name": "stdout",
     "output_type": "stream",
     "text": [
      "AS-RCEC TaiESM1 r1i1p1f1 Found 165 files\n",
      "Found data, proceeding to re-grid to 1 deg by 1 deg\n",
      "Regridding complete\n",
      "AWI AWI-CM-1-1-MR r1i1p1f1 Found 18 files\n"
     ]
    }
   ],
   "source": [
    "data_all=[]\n",
    "\n",
    "for index,row in df.iterrows():\n",
    "    model=row['Model']\n",
    "    centre=row['Centre']\n",
    "    run=row['RunID']\n",
    "    \n",
    "    files=bp.get_files(row)        \n",
    "    print('{} {} {} Found {} files'.format(centre,model,run,len(files)))   \n",
    "    data=xr.open_mfdataset(files,preprocess=wrapper)\n",
    "        \n",
    "    #Subset by time\n",
    "    data=data.sel(time=slice(time_start,time_end))          \n",
    "\n",
    "    \n",
    "    old_lat=data['lat'].data\n",
    "    old_lon=data['lon'].data\n",
    "    # Pyresample requires lons between -180 and 180\n",
    "    old_lon=xr.where(old_lon>180,old_lon-360,old_lon)\n",
    "    old_lon=xr.where(old_lon<-180,old_lon+360,old_lon)\n",
    "    \n",
    "    data_in=data[var]\n",
    "    # Check lon/lat and data have the same shape\n",
    "    if old_lon.shape == data_in.shape[1:]:\n",
    "        data_in = data_in\n",
    "    else: \n",
    "        print('Transposing')\n",
    "        data_in = data_in.transpose(dims=['time','x','y'])\n",
    "        \n",
    "    if (model=='SAM0-UNICON') and (var=='hfds'):\n",
    "        data_in=-data_in\n",
    " #      \n",
    "    print('Found data, proceeding to re-grid to 1 deg by 1 deg')\n",
    "    resample_data=setup_regrid(old_lat,old_lon) # Generate re-gridding kernel\n",
    "    data_1deg=repeat_regrid(data_in,resample_data)\n",
    "    data_1deg['time']=time_index\n",
    "\n",
    "    print('Regridding complete')\n",
    "\n",
    "    data_1deg.attrs.update(data[var].attrs)\n",
    "    \n",
    "    if runs == 'all':\n",
    "        data_1deg=data_1deg.assign_coords({'model_run':model+'_'+run})\n",
    "    else :\n",
    "        data_1deg=data_1deg.assign_coords({'model':model,'run':run})\n",
    "    \n",
    "    data_all.append(data_1deg)\n",
    "\n",
    "data_all=xr.concat(data_all,dim=dim_id,combine_attrs='drop_conflicts')\n",
    "data_all.attrs={'name':var,'units':data_1deg.attrs['units'],'long_name':data_1deg.attrs['long_name']}      \n",
    "print('All regridding complete')"
   ]
  },
  {
   "cell_type": "markdown",
   "metadata": {
    "tags": []
   },
   "source": [
    "### 4. Plot regridded models to spot any issues"
   ]
  },
  {
   "cell_type": "code",
   "execution_count": 79,
   "metadata": {},
   "outputs": [],
   "source": [
    "data_all.mean(dim=['time']).plot(x='lon',y='lat',col=dim_id,col_wrap=5,robust=True)\n",
    "plt.suptitle('Time mean {}'.format(var),y=1.02,fontweight='bold')\n",
    "plt.savefig(plots_dir+'/cmip6_time_mean_'+var+'_modelthumbnails.png')\n",
    "plt.close()"
   ]
  },
  {
   "cell_type": "markdown",
   "metadata": {},
   "source": [
    "### 5. Calculate and save model spread and model std-deviations"
   ]
  },
  {
   "cell_type": "code",
   "execution_count": 80,
   "metadata": {},
   "outputs": [],
   "source": [
    "if var == 'hfds':\n",
    "    data_all=data_all.drop_sel(model='CAS-ESM2-0') #Units off\n",
    "\n",
    "# Take inter-model standard deviation\n",
    "#dropna=False ensures only gridcells where all models have values are included\n",
    "model_std = data_all.std(dim=dim_id,dropna=False)\n",
    "model_std.attrs['units']=data_all.attrs['units']\n",
    "model_std.attrs['name']='stddev_'+data_all.attrs['name']\n",
    "model_std.attrs['long_name']='Ensemble Standard Deviation of '+data_all.attrs['long_name']\n",
    "model_std.attrs['comments']='Calculated for models listed'\n",
    "\n",
    "# Take inter-model spread\n",
    "model_spread = data_all.max(dim=dim_id,dropna=False)-data_all.min(dim=dim_id,dropna=False)\n",
    "model_spread.attrs['units']=data_all.attrs['units']\n",
    "model_spread.attrs['name']='spread_'+data_all.attrs['name']\n",
    "model_spread.attrs['long_name']='Ensemble Spread of '+data_all.attrs['long_name']\n",
    "model_std.attrs['comments']='Calculated for models listed'\n",
    "\n",
    "# Put results in one dataset, write to file\n",
    "dataset_out = xr.Dataset(data_vars={'model_std':model_std,'model_spread':model_spread,'models':data_all['model']})\n",
    "dataset_out.attrs['comments']='Generated on '+str(np.datetime64('today'))\n",
    "dataset_out.to_netcdf((save_dir+'/cmip6_stdspread_{}_{}.nc').format(var,dim_id))\n",
    "\n",
    "# Plot results\n",
    "fig=plt.figure(figsize=[12,4])\n",
    "ax=plt.subplot(1,2,1)\n",
    "model_std.mean(dim='time').plot(x='lon',y='lat',robust=True,ax=ax)\n",
    "ax.set_title('Time mean model std. dev. in {}'.format(var),y=1.02,fontweight='bold')     \n",
    "\n",
    "ax=plt.subplot(1,2,2)\n",
    "model_spread.mean(dim='time').plot(x='lon',y='lat',robust=True,ax=ax)\n",
    "ax.set_title('Time mean model spread in {}'.format(var),y=1.02,fontweight='bold')   \n",
    "plt.savefig(plots_dir+'/cmip6_stdspread_{}_{}.png'.format(var,dim_id))\n",
    "plt.close()"
   ]
  },
  {
   "cell_type": "markdown",
   "metadata": {},
   "source": [
    "## 6. Convert to python executable [optional]"
   ]
  },
  {
   "cell_type": "code",
   "execution_count": 1,
   "metadata": {},
   "outputs": [
    {
     "name": "stdout",
     "output_type": "stream",
     "text": [
      "[NbConvertApp] Converting notebook CMIP6_ranges.ipynb to script\n",
      "[NbConvertApp] Writing 11288 bytes to CMIP6_ranges.py\n"
     ]
    }
   ],
   "source": [
    "!jupyter nbconvert --to script CMIP6_ranges.ipynb"
   ]
  }
 ],
 "metadata": {
  "kernelspec": {
   "display_name": "nbenvconda",
   "language": "python",
   "name": "nbenvconda"
  },
  "language_info": {
   "codemirror_mode": {
    "name": "ipython",
    "version": 3
   },
   "file_extension": ".py",
   "mimetype": "text/x-python",
   "name": "python",
   "nbconvert_exporter": "python",
   "pygments_lexer": "ipython3",
   "version": "3.9.4"
  }
 },
 "nbformat": 4,
 "nbformat_minor": 4
}
